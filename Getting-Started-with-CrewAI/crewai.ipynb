{
 "cells": [
  {
   "cell_type": "markdown",
   "metadata": {},
   "source": [
    "Hi there, \n",
    "\n",
    "This notebook will guide you on how to automate your blog posts with Crewai and Ollama.\n",
    "\n",
    "Let's connect [YouTube](http://youtube.com/tirendazacademy) | [Medium](http://tirendazacademy.medium.com) | [X](http://x.com/tirendazacademy) | [Linkedin](https://www.linkedin.com/in/tirendaz-academy) 😎"
   ]
  },
  {
   "cell_type": "code",
   "execution_count": null,
   "metadata": {},
   "outputs": [],
   "source": [
    "from dotenv import load_dotenv \n",
    "\n",
    "load_dotenv()"
   ]
  },
  {
   "cell_type": "code",
   "execution_count": null,
   "metadata": {},
   "outputs": [],
   "source": [
    "from langchain_community.llms import Ollama \n",
    "\n",
    "llm = Ollama(model=\"mistral\")\n",
    "print(llm.invoke(\"Tell me a short joke\"))"
   ]
  },
  {
   "cell_type": "code",
   "execution_count": null,
   "metadata": {},
   "outputs": [],
   "source": [
    "from crewai_tools import SerperDevTool \n",
    "\n",
    "search_tool = SerperDevTool()\n",
    "print(search_tool.run(\"Obama's first name?\"))"
   ]
  },
  {
   "cell_type": "code",
   "execution_count": null,
   "metadata": {},
   "outputs": [],
   "source": [
    "from crewai import Agent \n",
    "\n",
    "researcher = Agent(\n",
    "    role = \"Senior Researcher\",\n",
    "    goal = \"Explore trending technologies in {topic}.\",\n",
    "    backstory = \"You are an innovative researher who follows the latest technology\",\n",
    "    verbose = True,\n",
    "    tools = [search_tool],\n",
    "    llm = llm,\n",
    ")\n",
    "\n",
    "writer = Agent(\n",
    "    role = \"Top Writer\",\n",
    "    goal = \"Create engaging content about {topic}. \",\n",
    "    backstory = \"You are an expert blogger who writes interesting articles.\",\n",
    "    verbose = True,\n",
    "    tools = [search_tool],\n",
    "    llm = llm,\n",
    ")"
   ]
  },
  {
   "cell_type": "code",
   "execution_count": null,
   "metadata": {},
   "outputs": [],
   "source": [
    "from crewai import Task \n",
    "\n",
    "research_task = Task(\n",
    "    description = \"Investigate the latest AI trends in {topic}.\",\n",
    "    expected_output = \"A comprehensive 4 paragraphs long report on the latest AI trends.\",\n",
    "    tools = [search_tool],\n",
    "    agent = researcher,\n",
    ")\n",
    "\n",
    "write_task = Task(\n",
    "    description = \"Write an engaging article on {topic} that focuses on the latest trends.\",\n",
    "    expected_output = \"A comprehensive 4 paragraphs blog on {topic} in markdown format.\",\n",
    "    tools = [search_tool],\n",
    "    agent = researcher,\n",
    "    output_file = \"my-blog.md\"\n",
    ")"
   ]
  },
  {
   "cell_type": "code",
   "execution_count": null,
   "metadata": {},
   "outputs": [],
   "source": [
    "from crewai import Crew \n",
    "\n",
    "crew = Crew(\n",
    "    agents=[researcher, writer],\n",
    "    tasks = [research_task, write_task]\n",
    ")\n",
    "\n",
    "result = crew.kickoff(\n",
    "    inputs = {\"topic\": \"AI in finance\"}\n",
    ")"
   ]
  },
  {
   "cell_type": "markdown",
   "metadata": {},
   "source": [
    "Thanks for reading.\n",
    "<br>\n",
    "\n",
    "[YouTube](http://youtube.com/tirendazacademy) | [Medium](http://tirendazacademy.medium.com) | [X](http://x.com/tirendazacademy) | [Linkedin](https://www.linkedin.com/in/tirendaz-academy) "
   ]
  }
 ],
 "metadata": {
  "kernelspec": {
   "display_name": "crewai",
   "language": "python",
   "name": "python3"
  },
  "language_info": {
   "codemirror_mode": {
    "name": "ipython",
    "version": 3
   },
   "file_extension": ".py",
   "mimetype": "text/x-python",
   "name": "python",
   "nbconvert_exporter": "python",
   "pygments_lexer": "ipython3",
   "version": "3.10.14"
  }
 },
 "nbformat": 4,
 "nbformat_minor": 2
}
